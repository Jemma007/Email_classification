{
 "metadata": {
  "kernelspec": {
   "language": "python",
   "display_name": "Python 3",
   "name": "python3"
  },
  "language_info": {
   "name": "python",
   "version": "3.7.12",
   "mimetype": "text/x-python",
   "codemirror_mode": {
    "name": "ipython",
    "version": 3
   },
   "pygments_lexer": "ipython3",
   "nbconvert_exporter": "python",
   "file_extension": ".py"
  }
 },
 "nbformat_minor": 4,
 "nbformat": 4,
 "cells": [
  {
   "cell_type": "code",
   "source": [
    "import os\n",
    "import time\n",
    "\n",
    "import torch\n",
    "import random\n",
    "import numpy as np\n",
    "from torch import optim\n",
    "from tqdm import tqdm\n",
    "\n",
    "import torch\n",
    "import torch.nn as nn\n",
    "\n",
    "from torchtext.legacy import data\n",
    "from IPython.display import HTML\n",
    "\n",
    "SEED = 2022\n",
    "random.seed(SEED)\n",
    "np.random.seed(SEED)\n",
    "torch.manual_seed(SEED)  # 为CPU设置随机种子\n",
    "torch.cuda.manual_seed(SEED)  # 为GPU设置随机种子\n",
    "torch.backends.cudnn.deterministic = False  # 可以提升一点训练速度，没有额外开销。"
   ],
   "metadata": {
    "execution": {
     "iopub.status.busy": "2022-12-24T09:21:16.724429Z",
     "iopub.execute_input": "2022-12-24T09:21:16.724835Z",
     "iopub.status.idle": "2022-12-24T09:21:16.732616Z",
     "shell.execute_reply.started": "2022-12-24T09:21:16.724795Z",
     "shell.execute_reply": "2022-12-24T09:21:16.731492Z"
    },
    "trusted": true,
    "pycharm": {
     "name": "#%%\n"
    }
   },
   "execution_count": 26,
   "outputs": []
  },
  {
   "cell_type": "code",
   "source": [
    "class RNN(nn.Module):\n",
    "    def __init__(self, vocab_size, embedding_dim, hidden_dim, output_dim, n_layers, bidirectional, dropout, pad_idx):\n",
    "        super().__init__()\n",
    "        self.embedding = nn.Embedding(vocab_size, embedding_dim, padding_idx=pad_idx)\n",
    "        self.lstm = nn.LSTM(embedding_dim, hidden_dim, num_layers=n_layers, bidirectional=bidirectional,\n",
    "                            dropout=dropout)\n",
    "        self.fc = nn.Linear(hidden_dim * 2, output_dim)\n",
    "        self.dropout = nn.Dropout(dropout)\n",
    "\n",
    "    def forward(self, text):  # text=[seq_len, batch_size]\n",
    "        embedded = self.dropout(self.embedding(text))  # [seq_len, batch_size, embedding_dim]\n",
    "        output, (hidden, cell) = self.lstm(embedded)\n",
    "\n",
    "        hidden = self.dropout(torch.cat((hidden[-2, :, :], hidden[-1, :, :]), dim=1))\n",
    "\n",
    "        return self.fc(hidden.squeeze(0))\n",
    "\n",
    "def binary_accuracy(preds, y):\n",
    "    '''计算准确度，即预测和实际标签的相匹配的个数'''\n",
    "    rounded_preds = torch.round(torch.sigmoid(preds))  # .round函数：四舍五入[neg: 0, pos: 1]\n",
    "    correct = (rounded_preds == y).float()  # convert into float for division\n",
    "    acc = correct.sum() / len(correct)\n",
    "    return acc\n",
    "\n",
    "def train(model, iterator, optimizer, loss_fn):\n",
    "    epoch_loss = 0\n",
    "    epoch_acc = 0\n",
    "    total_len = 0\n",
    "    model.train()  # 训练时会用到dropout、归一化等方法，但测试的时候不能用dropout等方法\n",
    "\n",
    "    for batch in iterator:\n",
    "        optimizer.zero_grad()\n",
    "        preds = model(batch.text).squeeze(1)  # squeeze(1)压缩维度，和batch.label维度对上\n",
    "        loss = loss_fn(preds, batch.label)\n",
    "        acc = binary_accuracy(preds, batch.label)\n",
    "\n",
    "        loss.backward()\n",
    "        optimizer.step()\n",
    "\n",
    "        epoch_loss += loss.item() * len(batch.label)\n",
    "\n",
    "        epoch_acc += acc.item() * len(batch.label)\n",
    "\n",
    "        total_len += len(batch.label)\n",
    "\n",
    "    return epoch_loss / total_len, epoch_acc / total_len\n",
    "\n",
    "\n",
    "def evaluate(model, iterator, loss_fn):\n",
    "    epoch_loss = 0\n",
    "    epoch_acc = 0\n",
    "    total_len = 0\n",
    "    model.eval()\n",
    "\n",
    "    with torch.no_grad():\n",
    "        for batch in iterator:\n",
    "            preds = model(batch.text).squeeze(1)\n",
    "            loss = loss_fn(preds, batch.label)\n",
    "            acc = binary_accuracy(preds, batch.label)\n",
    "\n",
    "            epoch_loss += loss.item() * len(batch.label)\n",
    "            epoch_acc += acc.item() * len(batch.label)\n",
    "            total_len += len(batch.label)\n",
    "    model.train()\n",
    "    return epoch_loss / total_len, epoch_acc / total_len\n",
    "\n",
    "def epoch_time(start_time, end_time):\n",
    "    elapsed_time = end_time - start_time\n",
    "    elapsed_mins = int(elapsed_time / 60)\n",
    "    elapsed_secs = int(elapsed_time - (elapsed_mins * 60))\n",
    "    return elapsed_mins, elapsed_secs\n",
    "\n",
    "def create_download_link(title = \"Download model file\", filename = \"wordavg-model.pt\"):\n",
    "    html = '<a href={filename}>{title}</a>'\n",
    "    html = html.format(title=title,filename=filename)\n",
    "    return HTML(html)"
   ],
   "metadata": {
    "execution": {
     "iopub.status.busy": "2022-12-24T09:21:16.745584Z",
     "iopub.execute_input": "2022-12-24T09:21:16.746196Z",
     "iopub.status.idle": "2022-12-24T09:21:16.763463Z",
     "shell.execute_reply.started": "2022-12-24T09:21:16.746167Z",
     "shell.execute_reply": "2022-12-24T09:21:16.762475Z"
    },
    "trusted": true,
    "pycharm": {
     "name": "#%%\n"
    }
   },
   "execution_count": 27,
   "outputs": []
  },
  {
   "cell_type": "code",
   "source": [
    "TEXT = data.Field(tokenize='spacy', tokenizer_language='en_core_web_sm')\n",
    "LABEL = data.LabelField(dtype=torch.float)\n",
    "\n",
    "train_data, val_data = data.TabularDataset.splits(\n",
    "    path='/kaggle/input/emails-classfication/', train='train.csv', validation='valid.csv', format='csv', skip_header=True,\n",
    "    fields=[('text', TEXT), ('label', LABEL)])\n",
    "\n",
    "test_data = data.TabularDataset('/kaggle/input/emails-classfication/test.csv', format='csv', skip_header=True,fields=[('text', TEXT), ('label', LABEL)])\n",
    "\n",
    "TEXT.build_vocab(train_data, max_size=10000, vectors=\"glove.6B.100d\", unk_init=torch.Tensor.normal_)\n",
    "LABEL.build_vocab(train_data)\n",
    "\n",
    "BATCH_SIZE = 64\n",
    "device = torch.device('cuda' if torch.cuda.is_available() else 'cpu')\n",
    "train_iterator, val_iterator, test_iterator = data.BucketIterator.splits(\n",
    "    (train_data, val_data, test_data),\n",
    "    batch_size=BATCH_SIZE,\n",
    "    sort_within_batch=True,\n",
    "    sort_key=lambda x: len(x.text),\n",
    "    device=device)"
   ],
   "metadata": {
    "execution": {
     "iopub.status.busy": "2022-12-24T09:21:16.765687Z",
     "iopub.execute_input": "2022-12-24T09:21:16.766079Z",
     "iopub.status.idle": "2022-12-24T09:21:22.146016Z",
     "shell.execute_reply.started": "2022-12-24T09:21:16.766044Z",
     "shell.execute_reply": "2022-12-24T09:21:22.145001Z"
    },
    "trusted": true,
    "pycharm": {
     "name": "#%%\n"
    }
   },
   "execution_count": 28,
   "outputs": []
  },
  {
   "cell_type": "code",
   "source": [
    "VOCAB_SIZE = len(TEXT.vocab)\n",
    "EMBEDDING_DIM = 100\n",
    "HIDDEN_DIM = 128\n",
    "OUTPUT_DIM = 1\n",
    "N_LAYERS = 2\n",
    "BIDIRECTIONAL = True\n",
    "DROPOUT = 0.5\n",
    "PAD_IDX = TEXT.vocab.stoi[TEXT.pad_token]"
   ],
   "metadata": {
    "execution": {
     "iopub.status.busy": "2022-12-24T09:21:22.148110Z",
     "iopub.execute_input": "2022-12-24T09:21:22.148512Z",
     "iopub.status.idle": "2022-12-24T09:21:22.153785Z",
     "shell.execute_reply.started": "2022-12-24T09:21:22.148473Z",
     "shell.execute_reply": "2022-12-24T09:21:22.152856Z"
    },
    "trusted": true,
    "pycharm": {
     "name": "#%%\n"
    }
   },
   "execution_count": 29,
   "outputs": []
  },
  {
   "cell_type": "code",
   "source": [
    "model = RNN(VOCAB_SIZE, EMBEDDING_DIM, HIDDEN_DIM, OUTPUT_DIM, N_LAYERS, BIDIRECTIONAL, DROPOUT, PAD_IDX)\n",
    "\n",
    "pretrained_embeddings = TEXT.vocab.vectors\n",
    "\n",
    "model.embedding.weight.data.copy_(pretrained_embeddings)\n",
    "UNK_IDX = TEXT.vocab.stoi[TEXT.unk_token]\n",
    "\n",
    "model.embedding.weight.data[UNK_IDX] = torch.zeros(EMBEDDING_DIM)\n",
    "model.embedding.weight.data[PAD_IDX] = torch.zeros(EMBEDDING_DIM)\n",
    "\n",
    "optimizer = optim.Adam(model.parameters())\n",
    "criterion = nn.BCEWithLogitsLoss()\n",
    "model = model.to(device)\n",
    "\n",
    "N_EPOCHS = 10\n",
    "best_valid_loss = float('inf')"
   ],
   "metadata": {
    "execution": {
     "iopub.status.busy": "2022-12-24T09:21:22.155879Z",
     "iopub.execute_input": "2022-12-24T09:21:22.156872Z",
     "iopub.status.idle": "2022-12-24T09:21:22.189242Z",
     "shell.execute_reply.started": "2022-12-24T09:21:22.156835Z",
     "shell.execute_reply": "2022-12-24T09:21:22.188423Z"
    },
    "trusted": true,
    "pycharm": {
     "name": "#%%\n"
    }
   },
   "execution_count": 30,
   "outputs": []
  },
  {
   "cell_type": "code",
   "source": [
    "for epoch in range(N_EPOCHS):\n",
    "    start_time = time.time()\n",
    "    train_loss, train_acc = train(model, train_iterator, optimizer, criterion)\n",
    "    valid_loss, valid_acc = evaluate(model, val_iterator, criterion)\n",
    "\n",
    "    end_time = time.time()\n",
    "    epoch_mins, epoch_secs = epoch_time(start_time, end_time)\n",
    "\n",
    "    if valid_loss < best_valid_loss:\n",
    "        best_valid_loss = valid_loss\n",
    "        torch.save(model.state_dict(), 'lstm-model.pt')\n",
    "\n",
    "    print(f'Epoch: {epoch + 1:02} | Epoch Time: {epoch_mins}m {epoch_secs}s')\n",
    "    print(f'\\tTrain Loss: {train_loss:.3f} | Train Acc: {train_acc * 100:.2f}%')\n",
    "    print(f'\\t Val. Loss: {valid_loss:.3f} |  Val. Acc: {valid_acc * 100:.2f}%')\n",
    "\n",
    "create_download_link(filename='lstm-model.pt')\n",
    "model.load_state_dict(torch.load('lstm-model.pt'))\n",
    "test_loss, test_acc = evaluate(model, test_iterator, criterion)\n",
    "print(f'Test Loss: {test_loss:.3f} | Test Acc: {test_acc * 100:.2f}%')"
   ],
   "metadata": {
    "execution": {
     "iopub.status.busy": "2022-12-24T09:21:22.190472Z",
     "iopub.execute_input": "2022-12-24T09:21:22.190907Z",
     "iopub.status.idle": "2022-12-24T09:22:09.929639Z",
     "shell.execute_reply.started": "2022-12-24T09:21:22.190868Z",
     "shell.execute_reply": "2022-12-24T09:22:09.928615Z"
    },
    "trusted": true,
    "pycharm": {
     "name": "#%%\n"
    }
   },
   "execution_count": 31,
   "outputs": [
    {
     "name": "stdout",
     "text": "Epoch: 01 | Epoch Time: 0m 4s\n\tTrain Loss: 0.561 | Train Acc: 72.18%\n\t Val. Loss: 0.391 |  Val. Acc: 85.45%\nEpoch: 02 | Epoch Time: 0m 4s\n\tTrain Loss: 0.310 | Train Acc: 87.13%\n\t Val. Loss: 0.323 |  Val. Acc: 89.69%\nEpoch: 03 | Epoch Time: 0m 4s\n\tTrain Loss: 0.233 | Train Acc: 91.63%\n\t Val. Loss: 0.148 |  Val. Acc: 94.29%\nEpoch: 04 | Epoch Time: 0m 4s\n\tTrain Loss: 0.133 | Train Acc: 95.42%\n\t Val. Loss: 0.112 |  Val. Acc: 95.86%\nEpoch: 05 | Epoch Time: 0m 4s\n\tTrain Loss: 0.097 | Train Acc: 96.61%\n\t Val. Loss: 0.094 |  Val. Acc: 96.96%\nEpoch: 06 | Epoch Time: 0m 4s\n\tTrain Loss: 0.077 | Train Acc: 97.00%\n\t Val. Loss: 0.101 |  Val. Acc: 96.87%\nEpoch: 07 | Epoch Time: 0m 4s\n\tTrain Loss: 0.075 | Train Acc: 97.75%\n\t Val. Loss: 0.183 |  Val. Acc: 94.57%\nEpoch: 08 | Epoch Time: 0m 4s\n\tTrain Loss: 0.068 | Train Acc: 97.63%\n\t Val. Loss: 0.114 |  Val. Acc: 96.50%\nEpoch: 09 | Epoch Time: 0m 4s\n\tTrain Loss: 0.055 | Train Acc: 97.91%\n\t Val. Loss: 0.173 |  Val. Acc: 95.40%\nEpoch: 10 | Epoch Time: 0m 4s\n\tTrain Loss: 0.044 | Train Acc: 98.30%\n\t Val. Loss: 0.108 |  Val. Acc: 96.59%\nTest Loss: 0.084 | Test Acc: 97.10%\n",
     "output_type": "stream"
    }
   ]
  }
 ]
}